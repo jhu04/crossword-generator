{
 "cells": [
  {
   "cell_type": "code",
   "execution_count": null,
   "metadata": {},
   "outputs": [],
   "source": [
    "import os\n",
    "import sys\n",
    "module_path = os.path.abspath(os.path.join('..'))\n",
    "if module_path not in sys.path:\n",
    "    sys.path.append(module_path)"
   ]
  },
  {
   "cell_type": "code",
   "execution_count": null,
   "metadata": {},
   "outputs": [],
   "source": [
    "import generation.constants as const\n",
    "from generation.clue_processor import CollectiveClueProcessor\n",
    "\n",
    "for source in const.CLUE_SOURCES:\n",
    "    source['path'] = os.path.join(const.DATA_ROOT, source['file_name'])\n",
    "clue_processor = CollectiveClueProcessor(const.CLUE_SOURCES)\n",
    "\n",
    "all_words = []\n",
    "for v in clue_processor.words.values():\n",
    "    all_words.extend(list(v['all']))\n",
    "all_words"
   ]
  },
  {
   "cell_type": "code",
   "execution_count": null,
   "metadata": {},
   "outputs": [],
   "source": [
    "import pandas as pd\n",
    "from matplotlib import pyplot as plt\n",
    "\n",
    "letter_freq_raw = pd.read_csv('../data/letter-frequencies.csv')\n",
    "letter_freq = {e.letter: e.freq for _, e in letter_freq_raw.iterrows()}\n",
    "inflation_scores = {word: sum(letter_freq[c] for c in word)/len(word) for word in all_words}\n",
    "plt.hist(inflation_scores.values(), bins=50)\n",
    "plt.show()"
   ]
  },
  {
   "cell_type": "code",
   "execution_count": null,
   "metadata": {},
   "outputs": [],
   "source": [
    "with open('results/inflated-words.txt', 'w') as f:\n",
    "    inflated_words = {k: v for k, v in inflation_scores.items() if v > 0.075}\n",
    "    f.write(str(len(inflated_words)))\n",
    "    f.write(str(inflated_words))"
   ]
  },
  {
   "cell_type": "code",
   "execution_count": null,
   "metadata": {},
   "outputs": [],
   "source": [
    "import wordninja\n",
    "def split_words(s):\n",
    "    contractions = ['d', 'm', 's', 't', 'll', 're', 've']\n",
    "    split = wordninja.split(s)\n",
    "    for i in range(len(split)-1, 0, -1):\n",
    "        if split[i] in contractions:\n",
    "            split[i-1] += split.pop(i)\n",
    "    return ' '.join(split)\n",
    "\n",
    "split_words('zees')"
   ]
  },
  {
   "cell_type": "code",
   "execution_count": null,
   "metadata": {},
   "outputs": [],
   "source": [
    "from generation.clue_processor import CollectiveClueProcessor\n",
    "import generation.constants as const\n",
    "\n",
    "for source in const.CLUE_SOURCES:\n",
    "    source['path'] = os.path.join(const.DATA_ROOT, source['file_name'])\n",
    "\n",
    "clue_processor = CollectiveClueProcessor(const.CLUE_SOURCES)\n",
    "clue_processor.clues"
   ]
  },
  {
   "cell_type": "code",
   "execution_count": null,
   "metadata": {},
   "outputs": [],
   "source": [
    "answers = pd.DataFrame(clue_processor.clues['answer'].unique()).rename(columns={0: 'answer'})\n",
    "answers['answer_sep'] = answers['answer'].apply(split_words)\n",
    "answers"
   ]
  },
  {
   "cell_type": "code",
   "execution_count": null,
   "metadata": {},
   "outputs": [],
   "source": [
    "from pytrends.request import TrendReq\n",
    "\n",
    "requests_args = {\n",
    "    'headers': {\n",
    "        'User-Agent': 'Mozilla/5.0 (Windows NT 10.0; Win64; x64) AppleWebKit/537.36 (KHTML, like Gecko) Chrome/108.0.0.0 Safari/537.36'\n",
    "    }\n",
    "}\n",
    "pytrends = TrendReq(requests_args=requests_args)"
   ]
  },
  {
   "cell_type": "code",
   "execution_count": null,
   "metadata": {},
   "outputs": [],
   "source": [
    "progress = None"
   ]
  },
  {
   "cell_type": "code",
   "execution_count": null,
   "metadata": {},
   "outputs": [],
   "source": [
    "import numpy as np\n",
    "from tqdm import tqdm\n",
    "\n",
    "def get_popularity(df, chunk_length=10, verbose=False):\n",
    "    def popularity(terms: set[str], timeframe='today 5-y'):\n",
    "        pytrends.build_payload(kw_list=terms)\n",
    "        try:\n",
    "            return int(pytrends.interest_over_time()[list(terms)].sum().sum())\n",
    "        except KeyError:\n",
    "            return 0\n",
    "\n",
    "    global progress\n",
    "    chunks = np.array_split(df, len(df)//chunk_length)\n",
    "    for chunk in tqdm(chunks):\n",
    "        chunk['popularity'] = chunk[['answer', 'answer_sep']].values.tolist()\n",
    "        chunk['popularity'] = chunk['popularity'].apply(lambda terms: popularity(set(terms)))\n",
    "        if verbose:\n",
    "            print(chunk)\n",
    "        if progress is None:\n",
    "            progress = chunk\n",
    "        else:\n",
    "            progress = pd.concat([progress, chunk])\n",
    "    \n",
    "    return progress"
   ]
  },
  {
   "cell_type": "code",
   "execution_count": null,
   "metadata": {},
   "outputs": [],
   "source": [
    "get_popularity(answers)"
   ]
  }
 ],
 "metadata": {
  "kernelspec": {
   "display_name": "crossify39",
   "language": "python",
   "name": "python3"
  },
  "language_info": {
   "codemirror_mode": {
    "name": "ipython",
    "version": 3
   },
   "file_extension": ".py",
   "mimetype": "text/x-python",
   "name": "python",
   "nbconvert_exporter": "python",
   "pygments_lexer": "ipython3",
   "version": "3.9.15 (main, Nov 24 2022, 14:39:17) [MSC v.1916 64 bit (AMD64)]"
  },
  "orig_nbformat": 4,
  "vscode": {
   "interpreter": {
    "hash": "374f21b6971a4d7456200b1a3977c127532e739364fc68f7938a4df050a83c38"
   }
  }
 },
 "nbformat": 4,
 "nbformat_minor": 2
}
