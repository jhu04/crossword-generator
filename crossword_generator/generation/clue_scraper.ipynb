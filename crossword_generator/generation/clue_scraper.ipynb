{
 "cells": [
  {
   "attachments": {},
   "cell_type": "markdown",
   "metadata": {},
   "source": [
    "# Clue Scraper\n",
    "\n",
    "Sources include [XWord Info](https://www.xwordinfo.com/)"
   ]
  },
  {
   "cell_type": "code",
   "execution_count": 1,
   "metadata": {},
   "outputs": [],
   "source": [
    "import os\n",
    "import sys\n",
    "\n",
    "module_path = os.path.abspath(os.path.join('..'))\n",
    "if module_path not in sys.path:\n",
    "    sys.path.append(module_path)"
   ]
  },
  {
   "cell_type": "code",
   "execution_count": 41,
   "metadata": {},
   "outputs": [],
   "source": [
    "import requests\n",
    "import pandas as pd\n",
    "from bs4 import BeautifulSoup\n",
    "from tqdm import tqdm\n",
    "\n",
    "import generation.constants as const\n",
    "\n",
    "headers = {'User-Agent': \"Mozilla/5.0 (Windows NT 10.0; Win64; x64) AppleWebKit/537.36 (KHTML, like Gecko) Chrome/42.0.2311.135 Safari/537.36 Edge/12.246\"}\n",
    "\n",
    "def scrape(urls):\n",
    "    \"\"\"Scrapes all pages in `urls` from the same site.\"\"\"\n",
    "    site_names = [url.split('.')[1].lower() for url in urls]\n",
    "    site_name = site_names[0]\n",
    "    assert all(n == site_name for n in site_names)\n",
    "\n",
    "    file_name = f'scraped-clues-{site_name}.csv'\n",
    "    path = os.path.join(const.DATA_PATH, file_name)\n",
    "    if not os.path.exists(path):\n",
    "        pd.DataFrame(columns=['clue', 'answer', 'url']).to_csv(path, index=False)\n",
    "\n",
    "    for url in tqdm(urls):\n",
    "        r = requests.get(url=url, headers=headers)\n",
    "        soup = BeautifulSoup(r.content, 'html5lib')\n",
    "        data = []\n",
    "\n",
    "        if site_name == 'xwordinfo':\n",
    "            table = soup.find('div', attrs={'class': 'numclue'})\n",
    "            for row in table.find_all('div'):\n",
    "                txt = row.get_text()\n",
    "                try:\n",
    "                    clue, answer = txt.split(\" : \")\n",
    "                    data.append([clue, answer, url])\n",
    "                except:\n",
    "                    continue\n",
    "        \n",
    "        pd.DataFrame(data, columns=['clue', 'answer', 'url']).to_csv(path, mode='a', index=False, header=False)"
   ]
  },
  {
   "cell_type": "code",
   "execution_count": 42,
   "metadata": {},
   "outputs": [
    {
     "name": "stderr",
     "output_type": "stream",
     "text": [
      "100%|██████████| 8412/8412 [54:29<00:00,  2.57it/s]  \n"
     ]
    }
   ],
   "source": [
    "from datetime import datetime\n",
    "\n",
    "xwordinfo_dates = pd.date_range(start=\"2000-01-01\", end=datetime.today()).to_pydatetime().tolist()\n",
    "xwordinfo_urls = [f\"https://www.xwordinfo.com/Crossword?date={date.month}/{date.day}/{date.year}\" for date in xwordinfo_dates]\n",
    "\n",
    "scrape(xwordinfo_urls)"
   ]
  },
  {
   "cell_type": "code",
   "execution_count": 2,
   "metadata": {},
   "outputs": [
    {
     "name": "stderr",
     "output_type": "stream",
     "text": [
      "[WDM] - Downloading: 100%|██████████| 6.79M/6.79M [00:00<00:00, 29.9MB/s]\n"
     ]
    }
   ],
   "source": [
    "from selenium import webdriver\n",
    "from selenium.webdriver.chrome.service import Service as ChromeService\n",
    "from webdriver_manager.chrome import ChromeDriverManager\n",
    "\n",
    "driver = webdriver.Chrome(service=ChromeService(ChromeDriverManager().install()))\n",
    "driver.maximize_window()"
   ]
  },
  {
   "cell_type": "code",
   "execution_count": 3,
   "metadata": {},
   "outputs": [],
   "source": [
    "from selenium.webdriver.common.by import By\n",
    "\n",
    "driver.get('https://www.theguardian.com/crosswords/quick/16442')"
   ]
  },
  {
   "cell_type": "code",
   "execution_count": 40,
   "metadata": {},
   "outputs": [],
   "source": [
    "from dataclasses import dataclass, field\n",
    "\n",
    "import generation.constants as const\n",
    "from generation.grid import Direction, Grid, Entry\n",
    "\n",
    "@dataclass()\n",
    "class FakeEntry(Entry):\n",
    "    id: int = field(init=True)\n",
    "\n",
    "    def __post_init__(self):\n",
    "        self.length = len(self.cells)\n",
    "        self.direction = Direction.ACROSS if len(self.cells) >= 2 and \\\n",
    "            self.cells[0].row == self.cells[1].row else Direction.DOWN"
   ]
  },
  {
   "cell_type": "code",
   "execution_count": 58,
   "metadata": {},
   "outputs": [],
   "source": [
    "for _ in range(2):\n",
    "    for button in driver.find_elements(By.CLASS_NAME, 'button--secondary'):\n",
    "        if 'Reveal all' == button.get_attribute('data-link-name'):\n",
    "            driver.execute_script(\"arguments[0].click();\", button)\n",
    "cell_size = 32\n",
    "\n",
    "for clue in driver.find_elements(By.CLASS_NAME, 'crossword__clue crossword__clue--answered'):\n",
    "    print(clue)\n",
    "    # number = clue.find_element(By.CLASS_NAME, 'crossword__clue__number')\n",
    "    # clue_text = clue.find_element(By.CLASS_NAME, 'crossword__clue__text')\n",
    "    # print(number, clue_text)\n",
    "\n",
    "# grid_content, entry_locs, n = [], [], 0\n",
    "# for cell in driver.find_elements(By.CLASS_NAME, 'crossword__cell-text'):\n",
    "#     r = int(float(cell.get_attribute('y')) / cell_size) + 1\n",
    "#     c = int(float(cell.get_attribute('x')) / cell_size) + 1\n",
    "#     label = cell.text\n",
    "#     n = max(n, r)\n",
    "#     grid_content.append((r, c, label))\n",
    "    \n",
    "# for cell in driver.find_elements(By.CLASS_NAME, 'crossword__cell-number'):\n",
    "#     r = int(float(cell.get_attribute('y')) / cell_size) + 1\n",
    "#     c = int(float(cell.get_attribute('x')) / cell_size) + 1\n",
    "#     number = int(cell.text)\n",
    "#     entry_locs.append((r, c, number))\n",
    "\n",
    "# print('web processed')\n",
    "\n",
    "# g = Grid(n, generate_layout=False, verbose=False)\n",
    "# for r in g.cell_range:\n",
    "#     for c in g.cell_range:\n",
    "#         g.cell(r, c).make_block()\n",
    "# for r, c, label in grid_content:\n",
    "#     g.cell(r, c).label = label\n",
    "# for r, c, number in entry_locs:\n",
    "#     cell = g.cell(r, c)\n",
    "#     e = FakeEntry(g, cell.get_across(), number)\n",
    "#     if e.length in const.WORD_LENGTH_RANGE and cell is e.get_start_cell():\n",
    "#         g.across[number] = g.cell(r, c)\n",
    "#         g.ids[(r, c)] = number\n",
    "#         g.entries.append(e)\n",
    "#     e = FakeEntry(g, g.cell(r, c).get_down(), number)\n",
    "#     if e.length in const.WORD_LENGTH_RANGE and cell is e.get_start_cell():\n",
    "#         g.down[number] = g.cell(r, c)\n",
    "#         g.ids[(r, c)] = number\n",
    "#         g.entries.append(e)"
   ]
  },
  {
   "cell_type": "code",
   "execution_count": 51,
   "metadata": {},
   "outputs": [
    {
     "name": "stdout",
     "output_type": "stream",
     "text": [
      "JACKFROST 1 Direction.ACROSS\n",
      "ACRE 2 Direction.DOWN\n",
      "KING 3 Direction.DOWN\n",
      "REVOLT 4 Direction.DOWN\n",
      "STAFFS 5 Direction.DOWN\n",
      "SUPERSTAR 6 Direction.DOWN\n",
      "COWBOYHAT 7 Direction.DOWN\n",
      "SUMO 8 Direction.ACROSS\n",
      "TRANSVAAL 9 Direction.ACROSS\n",
      "HERB 10 Direction.ACROSS\n",
      "SKINFLINT 11 Direction.DOWN\n",
      "LITTERBUG 12 Direction.DOWN\n",
      "CLIFF 13 Direction.ACROSS\n",
      "CHIEF 13 Direction.DOWN\n",
      "FLOAT 14 Direction.DOWN\n",
      "KNIGHT 15 Direction.ACROSS\n",
      "SLUSHY 16 Direction.ACROSS\n",
      "NUTMEG 17 Direction.ACROSS\n",
      "GLITCH 18 Direction.DOWN\n",
      "PANAMA 19 Direction.ACROSS\n",
      "PUNNET 19 Direction.DOWN\n",
      "FLOUT 20 Direction.ACROSS\n",
      "LURK 21 Direction.ACROSS\n",
      "SHAW 22 Direction.DOWN\n",
      "BOSS 23 Direction.DOWN\n",
      "STANCHION 24 Direction.ACROSS\n",
      "NOUS 25 Direction.ACROSS\n",
      "WHITEWASH 26 Direction.ACROSS\n"
     ]
    }
   ],
   "source": [
    "for e in g.entries:\n",
    "    print(e.get_contents(), e.id, e.direction)"
   ]
  },
  {
   "cell_type": "code",
   "execution_count": null,
   "metadata": {},
   "outputs": [],
   "source": [
    "from selenium.webdriver.common.by import By\n",
    "\n",
    "def interact_browser(url):\n",
    "    driver.get(url)\n",
    "    driver.find_element_by_id('bt_gerar_cpf').click()\n",
    "    text_field = driver.find_element_by_id('texto_cpf')\n",
    "    text = wait(driver, 10).until(lambda driver: not text_field.text == 'Gerando...' and text_field.text)\n",
    "    return text\n",
    "\n",
    "print(open_browser())"
   ]
  }
 ],
 "metadata": {
  "kernelspec": {
   "display_name": "py310",
   "language": "python",
   "name": "python3"
  },
  "language_info": {
   "codemirror_mode": {
    "name": "ipython",
    "version": 3
   },
   "file_extension": ".py",
   "mimetype": "text/x-python",
   "name": "python",
   "nbconvert_exporter": "python",
   "pygments_lexer": "ipython3",
   "version": "3.10.8"
  },
  "orig_nbformat": 4,
  "vscode": {
   "interpreter": {
    "hash": "760584456a04203f3f70b5dc16d037788d85101625e0a3053bf59920b3bd550d"
   }
  }
 },
 "nbformat": 4,
 "nbformat_minor": 2
}
